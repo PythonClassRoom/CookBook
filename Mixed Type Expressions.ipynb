{
 "cells": [
  {
   "cell_type": "code",
   "execution_count": 1,
   "metadata": {},
   "outputs": [
    {
     "name": "stdout",
     "output_type": "stream",
     "text": [
      "15\n",
      "58.3\n",
      "4.5\n"
     ]
    }
   ],
   "source": [
    "#Yordan García Corrales\n",
    "#Mixed Type Expressions\n",
    "\n",
    "#In this case when it is an integer is involve in a arithmetic expressions with other integer\n",
    "# is the same type (Integer),but when it is an integer with a floating number this result will have the floating type.\n",
    "\n",
    "#For example we declare an variable A and B where A=Integer and B=Integer\n",
    "A=10\n",
    "B=5\n",
    "print(A+B)\n",
    "#For example we declare an variable A and B where A=Floating and B=Floating\n",
    "A=10.6\n",
    "B=5.5\n",
    "print(A*B)\n",
    "#For example we declare an variable A and B where A=Integer and B=Floating\n",
    "A=10\n",
    "B=5.5\n",
    "print(A-B)"
   ]
  },
  {
   "cell_type": "code",
   "execution_count": null,
   "metadata": {},
   "outputs": [],
   "source": []
  }
 ],
 "metadata": {
  "kernelspec": {
   "display_name": "Python 3",
   "language": "python",
   "name": "python3"
  },
  "language_info": {
   "codemirror_mode": {
    "name": "ipython",
    "version": 3
   },
   "file_extension": ".py",
   "mimetype": "text/x-python",
   "name": "python",
   "nbconvert_exporter": "python",
   "pygments_lexer": "ipython3",
   "version": "3.6.4"
  }
 },
 "nbformat": 4,
 "nbformat_minor": 2
}
