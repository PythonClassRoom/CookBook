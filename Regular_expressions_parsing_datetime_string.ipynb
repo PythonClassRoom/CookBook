{
 "cells": [
  {
   "cell_type": "markdown",
   "metadata": {},
   "source": [
    "# Basic Regular expressions"
   ]
  },
  {
   "cell_type": "markdown",
   "metadata": {},
   "source": [
    "## Parsing datetime strings"
   ]
  },
  {
   "cell_type": "code",
   "execution_count": 1,
   "metadata": {
    "ExecuteTime": {
     "end_time": "2018-05-07T22:50:06.430500Z",
     "start_time": "2018-05-07T22:50:06.418679Z"
    }
   },
   "outputs": [],
   "source": [
    "from re import search"
   ]
  },
  {
   "cell_type": "code",
   "execution_count": 11,
   "metadata": {
    "ExecuteTime": {
     "end_time": "2018-05-07T22:53:44.012856Z",
     "start_time": "2018-05-07T22:53:44.004946Z"
    }
   },
   "outputs": [],
   "source": [
    "show_re = r'(?P<year>\\d{4})-' \\\n",
    "r'(?P<month>\\d{2})-' \\\n",
    "r'(?P<day>\\d{2}).?' \\\n",
    "r'(?P<hour>\\d{2})?:?' \\\n",
    "r'(?P<minute>\\d{2})?:?' \\\n",
    "r'(?P<second>\\d{2})?.?' \\\n",
    "r'(?P<microsecond>\\d{0,6})?'"
   ]
  },
  {
   "cell_type": "code",
   "execution_count": 12,
   "metadata": {
    "ExecuteTime": {
     "end_time": "2018-05-07T22:53:44.893272Z",
     "start_time": "2018-05-07T22:53:44.887422Z"
    }
   },
   "outputs": [],
   "source": [
    "input_string = '2018-01-06 15:45:41.6'"
   ]
  },
  {
   "cell_type": "code",
   "execution_count": 13,
   "metadata": {
    "ExecuteTime": {
     "end_time": "2018-05-07T22:53:45.474293Z",
     "start_time": "2018-05-07T22:53:45.465993Z"
    }
   },
   "outputs": [],
   "source": [
    "my_result = search(show_re, input_string).groupdict()"
   ]
  },
  {
   "cell_type": "code",
   "execution_count": 14,
   "metadata": {
    "ExecuteTime": {
     "end_time": "2018-05-07T22:53:46.273208Z",
     "start_time": "2018-05-07T22:53:46.259773Z"
    }
   },
   "outputs": [
    {
     "data": {
      "text/plain": [
       "{'day': '06',\n",
       " 'hour': '15',\n",
       " 'microsecond': '6',\n",
       " 'minute': '45',\n",
       " 'month': '01',\n",
       " 'second': '41',\n",
       " 'year': '2018'}"
      ]
     },
     "execution_count": 14,
     "metadata": {},
     "output_type": "execute_result"
    }
   ],
   "source": [
    "my_result"
   ]
  }
 ],
 "metadata": {
  "kernelspec": {
   "display_name": "Python [default]",
   "language": "python",
   "name": "python3"
  },
  "language_info": {
   "codemirror_mode": {
    "name": "ipython",
    "version": 3
   },
   "file_extension": ".py",
   "mimetype": "text/x-python",
   "name": "python",
   "nbconvert_exporter": "python",
   "pygments_lexer": "ipython3",
   "version": "3.6.4"
  },
  "toc": {
   "colors": {
    "hover_highlight": "#DAA520",
    "navigate_num": "#000000",
    "navigate_text": "#333333",
    "running_highlight": "#FF0000",
    "selected_highlight": "#FFD700",
    "sidebar_border": "#EEEEEE",
    "wrapper_background": "#FFFFFF"
   },
   "moveMenuLeft": true,
   "nav_menu": {
    "height": "48px",
    "width": "252px"
   },
   "navigate_menu": true,
   "number_sections": true,
   "sideBar": true,
   "threshold": 4,
   "toc_cell": false,
   "toc_section_display": "block",
   "toc_window_display": false,
   "widenNotebook": false
  }
 },
 "nbformat": 4,
 "nbformat_minor": 2
}
