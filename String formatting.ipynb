{
 "cells": [
  {
   "cell_type": "markdown",
   "metadata": {},
   "source": [
    "# String formatting\n",
    "#### On this occasion we are going to explore the print() command, using power of 2(2^n) as example:"
   ]
  },
  {
   "cell_type": "code",
   "execution_count": 1,
   "metadata": {},
   "outputs": [
    {
     "name": "stdout",
     "output_type": "stream",
     "text": [
      "2^0 =  1\n",
      "2^1 =  2\n",
      "2^2 =  4\n",
      "2^3 =  8\n",
      "2^4 =  16\n",
      "2^5 =  32\n",
      "2^6 =  64\n",
      "2^8 =  128\n",
      "2^9 =  512\n",
      "2^10 =  1024\n",
      "2^11 =  2048\n"
     ]
    }
   ],
   "source": [
    "print('2^0 = ', 2**0)\n",
    "print('2^1 = ', 2**1)\n",
    "print('2^2 = ', 2**2)\n",
    "print('2^3 = ', 2**3)\n",
    "print('2^4 = ', 2**4)\n",
    "print('2^5 = ', 2**5)\n",
    "print('2^6 = ', 2**6)\n",
    "print('2^8 = ', 2**7)\n",
    "print('2^9 = ', 2**9)\n",
    "print('2^10 = ', 2**10)\n",
    "print('2^11 = ', 2**11)"
   ]
  },
  {
   "cell_type": "markdown",
   "metadata": {},
   "source": [
    "#### We can number or justify the values on the right, as shown on the left side in the previous example.\n",
    "--------------------------------\n",
    "#### Now another example with a more complicated way than the one already seen."
   ]
  },
  {
   "cell_type": "code",
   "execution_count": 2,
   "metadata": {},
   "outputs": [
    {
     "name": "stdout",
     "output_type": "stream",
     "text": [
      "2^0 = 1\n",
      "2^1 = 2\n",
      "2^2 = 4\n",
      "2^3 = 8\n",
      "2^4 = 16\n",
      "2^5 = 32\n",
      "2^6 = 64\n",
      "2^7 = 128\n",
      "2^8 = 256\n",
      "2^9 = 512\n",
      "2^10 = 1024\n",
      "2^11 = 2048\n"
     ]
    }
   ],
   "source": [
    "print('{0} {1}'.format('2^0 =' , 2**0))\n",
    "print('{0} {1}'.format('2^1 =' , 2**1))\n",
    "print('{0} {1}'.format('2^2 =' , 2**2))\n",
    "print('{0} {1}'.format('2^3 =' , 2**3))\n",
    "print('{0} {1}'.format('2^4 =' , 2**4))\n",
    "print('{0} {1}'.format('2^5 =' , 2**5))\n",
    "print('{0} {1}'.format('2^6 =' , 2**6))\n",
    "print('{0} {1}'.format('2^7 =' , 2**7))\n",
    "print('{0} {1}'.format('2^8 =' , 2**8))\n",
    "print('{0} {1}'.format('2^9 =' , 2**9))\n",
    "print('{0} {1}'.format('2^10 =' , 2**10))\n",
    "print('{0} {1}'.format('2^11 =' , 2**11))"
   ]
  },
  {
   "cell_type": "markdown",
   "metadata": {},
   "source": [
    "#### This syntax is called the replacement string, which divides into 2 parts:\n",
    "* Format strings contain replacement fields surrounded by curly braces, these contains integer numbers, known as positional parameters. We can also access parameters by name. This fields are then replaced by the arguments specified in .format() If we need to include a brace character in the literal text, its function can be canceled by typing 2 times each brace, the same logic as when we double negate a number and it becames positive.\n",
    "* .format(n0, n1, n2, ...) : this part contains the arguments that will be substituted into the formating string. The order is from left to right, starting at 0.\n",
    "\n",
    "#### A few more examples:"
   ]
  },
  {
   "cell_type": "code",
   "execution_count": 3,
   "metadata": {},
   "outputs": [
    {
     "name": "stdout",
     "output_type": "stream",
     "text": [
      "Layer 3:(Network), Layer 2:(Data Link), Layer 1:(Physical)\n"
     ]
    }
   ],
   "source": [
    "print('Layer 3:({2}), Layer 2:({1}), Layer 1:({0})'.format('Physical','Data Link','Network'))"
   ]
  },
  {
   "cell_type": "code",
   "execution_count": 4,
   "metadata": {},
   "outputs": [
    {
     "name": "stdout",
     "output_type": "stream",
     "text": [
      "Physical,Data Link,Network\n"
     ]
    }
   ],
   "source": [
    "print('{Layer1},{Layer2},{Layer3}'.format(Layer1='Physical',Layer2='Data Link',Layer3='Network'))\n"
   ]
  },
  {
   "cell_type": "code",
   "execution_count": 6,
   "metadata": {},
   "outputs": [
    {
     "ename": "SyntaxError",
     "evalue": "unexpected EOF while parsing (<ipython-input-6-c408dedaa65a>, line 2)",
     "output_type": "error",
     "traceback": [
      "\u001b[0;36m  File \u001b[0;32m\"<ipython-input-6-c408dedaa65a>\"\u001b[0;36m, line \u001b[0;32m2\u001b[0m\n\u001b[0;31m    print('Transport is the layer number {} of the 7 Layers of OSI'.format(Transport)\u001b[0m\n\u001b[0m                                                                                     ^\u001b[0m\n\u001b[0;31mSyntaxError\u001b[0m\u001b[0;31m:\u001b[0m unexpected EOF while parsing\n"
     ]
    }
   ],
   "source": [
    "Transport = 4\n",
    "print('Transport is the layer number {} of the 7 Layers of OSI'.format(Transport))"
   ]
  },
  {
   "cell_type": "code",
   "execution_count": null,
   "metadata": {},
   "outputs": [],
   "source": []
  }
 ],
 "metadata": {
  "kernelspec": {
   "display_name": "Python 3",
   "language": "python",
   "name": "python3"
  },
  "language_info": {
   "codemirror_mode": {
    "name": "ipython",
    "version": 3
   },
   "file_extension": ".py",
   "mimetype": "text/x-python",
   "name": "python",
   "nbconvert_exporter": "python",
   "pygments_lexer": "ipython3",
   "version": "3.6.4"
  }
 },
 "nbformat": 4,
 "nbformat_minor": 2
}
