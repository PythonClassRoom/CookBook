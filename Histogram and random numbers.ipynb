{
 "cells": [
  {
   "cell_type": "code",
   "execution_count": 1,
   "metadata": {
    "collapsed": true
   },
   "outputs": [],
   "source": [
    "import numpy as np\n",
    "import matplotlib.pylab as plt \n",
    "import random\n",
    "import pandas as pd"
   ]
  },
  {
   "cell_type": "code",
   "execution_count": 11,
   "metadata": {
    "collapsed": true
   },
   "outputs": [],
   "source": [
    "def randomFunction(tam=100000):\n",
    "    return random.randint(a=-tam,b=tam) * np.ones(random.randint(a=1,b=tam))"
   ]
  },
  {
   "cell_type": "code",
   "execution_count": 12,
   "metadata": {
    "collapsed": true
   },
   "outputs": [],
   "source": [
    "array = np.empty(0)\n",
    "for i in range(99):\n",
    "    array = np.append(array, randomFunction())"
   ]
  },
  {
   "cell_type": "code",
   "execution_count": 13,
   "metadata": {},
   "outputs": [
    {
     "data": {
      "text/plain": [
       "array([-54767., -54767., -54767., ...,  19517.,  19517.,  19517.])"
      ]
     },
     "execution_count": 13,
     "metadata": {},
     "output_type": "execute_result"
    }
   ],
   "source": [
    "array"
   ]
  },
  {
   "cell_type": "code",
   "execution_count": 14,
   "metadata": {},
   "outputs": [
    {
     "data": {
      "text/plain": [
       "(array([ 59251.,      0., 133374.,      0., 129887.,  59565.,      0.,\n",
       "         58599.,      0.,      0.,      0.,      0.,      0.,  64000.,\n",
       "             0.,      0.,      0.,      0.,  73812.,      0.,      0.,\n",
       "             0.,      0.,  54050.,  84397.,      0.,      0.,  78331.,\n",
       "           229.,      0.,      0.,      0.,   4907.,  74679.,      0.,\n",
       "         66978.,      0.,  25029.,      0.,  48604.,      0.,      0.,\n",
       "         70258.,  39009.,      0.,  26989.,  89895.,      0.,  44857.,\n",
       "             0.,      0.,      0.,    740.,  96410.,      0.,      0.,\n",
       "         63096.,      0.,      0.,      0.,      0.,      0., 178111.,\n",
       "         58741.,      0.,  63398., 121233.,      0.,      0.,  28439.,\n",
       "             0.,      0.,      0.,      0.,  62876.,      0.,   3096.,\n",
       "         80029.,  72627.,  75063.,  72839.,  60602.,  18426.,   7156.,\n",
       "        115226.,  93802.,  32959.,      0.,      0.,      0.,      0.,\n",
       "         13501.,      0.,      0.,      0.,      0.,  45134.,  36409.,\n",
       "             0.,      0.,  78183.,  57231.,      0.,  32872.,  43600.,\n",
       "             0.,      0.,  36295.,  75431.,      0.,      0.,  30139.,\n",
       "             0.,  62865.,      0., 133868.,  78522.,  77344.,      0.,\n",
       "             0.,  50775.,   9995.,      0.,      0.,      0.,      0.,\n",
       "             0.,  78703.,      0.,      0.,      0.,  77283.,  96458.,\n",
       "        100796.,  62784.,  77101.,      0.,      0.,  51246.,      0.,\n",
       "             0.,  80579.,      0.,      0.,      0.,      0.,      0.,\n",
       "             0.,   1481.,      0.,      0.,  63626.,  45718.,  27640.,\n",
       "             0.,      0.,      0.,  89210.,      0.,      0.,  20732.,\n",
       "             0.,      0.,      0.,      0.,      0.,  50393.,      0.,\n",
       "         88518., 124382.,      0.,      0.,      0.,      0.,      0.,\n",
       "             0.,      0.,      0.,   8803., 113615.,      0.,  15993.,\n",
       "         63575.,      0.,      0.,      0., 106901.,      0.,      0.,\n",
       "             0.,      0.,      0.,  23558.,      0.,      0.,  95716.]),\n",
       " array([-97635.        , -96632.77040816, -95630.54081633, -94628.31122449,\n",
       "        -93626.08163265, -92623.85204082, -91621.62244898, -90619.39285714,\n",
       "        -89617.16326531, -88614.93367347, -87612.70408163, -86610.4744898 ,\n",
       "        -85608.24489796, -84606.01530612, -83603.78571429, -82601.55612245,\n",
       "        -81599.32653061, -80597.09693878, -79594.86734694, -78592.6377551 ,\n",
       "        -77590.40816327, -76588.17857143, -75585.94897959, -74583.71938776,\n",
       "        -73581.48979592, -72579.26020408, -71577.03061224, -70574.80102041,\n",
       "        -69572.57142857, -68570.34183673, -67568.1122449 , -66565.88265306,\n",
       "        -65563.65306122, -64561.42346939, -63559.19387755, -62556.96428571,\n",
       "        -61554.73469388, -60552.50510204, -59550.2755102 , -58548.04591837,\n",
       "        -57545.81632653, -56543.58673469, -55541.35714286, -54539.12755102,\n",
       "        -53536.89795918, -52534.66836735, -51532.43877551, -50530.20918367,\n",
       "        -49527.97959184, -48525.75      , -47523.52040816, -46521.29081633,\n",
       "        -45519.06122449, -44516.83163265, -43514.60204082, -42512.37244898,\n",
       "        -41510.14285714, -40507.91326531, -39505.68367347, -38503.45408163,\n",
       "        -37501.2244898 , -36498.99489796, -35496.76530612, -34494.53571429,\n",
       "        -33492.30612245, -32490.07653061, -31487.84693878, -30485.61734694,\n",
       "        -29483.3877551 , -28481.15816327, -27478.92857143, -26476.69897959,\n",
       "        -25474.46938776, -24472.23979592, -23470.01020408, -22467.78061224,\n",
       "        -21465.55102041, -20463.32142857, -19461.09183673, -18458.8622449 ,\n",
       "        -17456.63265306, -16454.40306122, -15452.17346939, -14449.94387755,\n",
       "        -13447.71428571, -12445.48469388, -11443.25510204, -10441.0255102 ,\n",
       "         -9438.79591837,  -8436.56632653,  -7434.33673469,  -6432.10714286,\n",
       "         -5429.87755102,  -4427.64795918,  -3425.41836735,  -2423.18877551,\n",
       "         -1420.95918367,   -418.72959184,    583.5       ,   1585.72959184,\n",
       "          2587.95918367,   3590.18877551,   4592.41836735,   5594.64795918,\n",
       "          6596.87755102,   7599.10714286,   8601.33673469,   9603.56632653,\n",
       "         10605.79591837,  11608.0255102 ,  12610.25510204,  13612.48469388,\n",
       "         14614.71428571,  15616.94387755,  16619.17346939,  17621.40306122,\n",
       "         18623.63265306,  19625.8622449 ,  20628.09183673,  21630.32142857,\n",
       "         22632.55102041,  23634.78061224,  24637.01020408,  25639.23979592,\n",
       "         26641.46938776,  27643.69897959,  28645.92857143,  29648.15816327,\n",
       "         30650.3877551 ,  31652.61734694,  32654.84693878,  33657.07653061,\n",
       "         34659.30612245,  35661.53571429,  36663.76530612,  37665.99489796,\n",
       "         38668.2244898 ,  39670.45408163,  40672.68367347,  41674.91326531,\n",
       "         42677.14285714,  43679.37244898,  44681.60204082,  45683.83163265,\n",
       "         46686.06122449,  47688.29081633,  48690.52040816,  49692.75      ,\n",
       "         50694.97959184,  51697.20918367,  52699.43877551,  53701.66836735,\n",
       "         54703.89795918,  55706.12755102,  56708.35714286,  57710.58673469,\n",
       "         58712.81632653,  59715.04591837,  60717.2755102 ,  61719.50510204,\n",
       "         62721.73469388,  63723.96428571,  64726.19387755,  65728.42346939,\n",
       "         66730.65306122,  67732.88265306,  68735.1122449 ,  69737.34183673,\n",
       "         70739.57142857,  71741.80102041,  72744.03061224,  73746.26020408,\n",
       "         74748.48979592,  75750.71938776,  76752.94897959,  77755.17857143,\n",
       "         78757.40816327,  79759.6377551 ,  80761.86734694,  81764.09693878,\n",
       "         82766.32653061,  83768.55612245,  84770.78571429,  85773.01530612,\n",
       "         86775.24489796,  87777.4744898 ,  88779.70408163,  89781.93367347,\n",
       "         90784.16326531,  91786.39285714,  92788.62244898,  93790.85204082,\n",
       "         94793.08163265,  95795.31122449,  96797.54081633,  97799.77040816,\n",
       "         98802.        ]),\n",
       " <a list of 196 Patch objects>)"
      ]
     },
     "execution_count": 14,
     "metadata": {},
     "output_type": "execute_result"
    },
    {
     "data": {
      "image/png": "[encoded data removed]",
      "text/plain": [
       "<Figure size 432x288 with 1 Axes>"
      ]
     },
     "metadata": {},
     "output_type": "display_data"
    }
   ],
   "source": [
    "plt.hist(array, 'auto', facecolor='blue')"
   ]
  },
  {
   "cell_type": "code",
   "execution_count": 15,
   "metadata": {},
   "outputs": [
    {
     "name": "stdout",
     "output_type": "stream",
     "text": [
      "46.9 µs ± 693 ns per loop (mean ± std. dev. of 7 runs, 10000 loops each)\n"
     ]
    }
   ],
   "source": [
    "%timeit randomFunction()"
   ]
  }
 ],
 "metadata": {
  "kernelspec": {
   "display_name": "Python 3",
   "language": "python",
   "name": "python3"
  },
  "language_info": {
   "codemirror_mode": {
    "name": "ipython",
    "version": 3
   },
   "file_extension": ".py",
   "mimetype": "text/x-python",
   "name": "python",
   "nbconvert_exporter": "python",
   "pygments_lexer": "ipython3",
   "version": "3.6.3"
  }
 },
 "nbformat": 4,
 "nbformat_minor": 2
}
