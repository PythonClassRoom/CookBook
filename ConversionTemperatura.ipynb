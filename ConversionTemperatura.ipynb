{
 "cells": [
  {
   "cell_type": "code",
   "execution_count": 2,
   "metadata": {
    "collapsed": true
   },
   "outputs": [],
   "source": [
    "inicio = 0;"
   ]
  },
  {
   "cell_type": "code",
   "execution_count": 3,
   "metadata": {},
   "outputs": [
    {
     "name": "stdout",
     "output_type": "stream",
     "text": [
      "Seleccione Conversion\n",
      "1. °C a °F\n",
      "2. °F a °C\n",
      "3. °C a K\n",
      "4. K a °C\n",
      "5. K a °F\n",
      "6. °F a K\n",
      "1\n",
      "Ingrese grados Celsius: 200\n",
      "200.0 °C equivale a 392.0 °F\n",
      "\n",
      "*******\n",
      "\tDigite su opcion:\n",
      "0.Otra Conversion\n",
      "1.Salir0\n",
      "Seleccione Conversion\n",
      "1. °C a °F\n",
      "2. °F a °C\n",
      "3. °C a K\n",
      "4. K a °C\n",
      "5. K a °F\n",
      "6. °F a K\n",
      "2\n",
      "Ingrese grados Fahrenheit: 45\n",
      "45.0 °F equivale a 7.222222222222222 °F\n",
      "\n",
      "*******\n",
      "\tDigite su opcion:\n",
      "0.Otra Conversion\n",
      "1.Salir1\n"
     ]
    }
   ],
   "source": [
    "while(inicio==0):\n",
    "    n = int(input(\"Seleccione Conversion\\n1. °C a °F\\n2. °F a °C\\n3. °C a K\\n4. K a °C\\n5. K a °F\\n6. °F a K\\n\"))\n",
    "    resultado = 0\n",
    "    numero = 0\n",
    "\n",
    "    if(n==1):\n",
    "        c = float(input(\"Ingrese grados Celsius: \"))\n",
    "        resultado = c*(9/5)+32;\n",
    "        print(str(c)+\" °C equivale a \"+str(resultado)+\" °F\")\n",
    "    if(n==2):\n",
    "        c = float(input(\"Ingrese grados Fahrenheit: \"))\n",
    "        resultado = (c-32)*(5/9)\n",
    "        print(str(c)+\" °F equivale a \"+str(resultado)+\" °F\")\n",
    "    if(n==3):\n",
    "        c = float(input(\"Ingrese grados Celsius: \"))\n",
    "        resultado = c+273;\n",
    "        print(str(c) + \" °C equivale a \" + str(resultado) + \" K\")\n",
    "    if (n == 4):\n",
    "        c = float(input(\"Ingrese grados Kelvin: \"))\n",
    "        resultado = c-273;\n",
    "        print(str(c) + \" K equivale a \" + str(resultado) + \" °C\")\n",
    "    if(n==5):\n",
    "        c = float(input(\"Ingrese grados Kelvin: \"))\n",
    "        resultado = 1.8*(c-273)+32;\n",
    "        print(str(c) + \" K equivale a \" + str(resultado) + \" °F\")\n",
    "    if(n==6):\n",
    "        c = float(input(\"Ingrese grados Fahrenheit: \"))\n",
    "        resultado = (c+459.67)*(5/9);\n",
    "        print(str(c) + \" °C equivale a \" + str(resultado) + \" K\")\n",
    "    inicio = int(input(\"\\n*******\\n\\tDigite su opcion:\\n0.Otra Conversion\\n1.Salir\"))\n",
    "    if(inicio!=0):\n",
    "        break"
   ]
  }
 ],
 "metadata": {
  "kernelspec": {
   "display_name": "Python 3",
   "language": "python",
   "name": "python3"
  },
  "language_info": {
   "codemirror_mode": {
    "name": "ipython",
    "version": 3
   },
   "file_extension": ".py",
   "mimetype": "text/x-python",
   "name": "python",
   "nbconvert_exporter": "python",
   "pygments_lexer": "ipython3",
   "version": "3.6.3"
  }
 },
 "nbformat": 4,
 "nbformat_minor": 2
}
