{
 "cells": [
  {
   "cell_type": "code",
   "execution_count": 2,
   "metadata": {},
   "outputs": [
    {
     "name": "stdout",
     "output_type": "stream",
     "text": [
      "Precedence\n",
      "What is the right ejecution?\n",
      "3+2*5\n",
      "Second, We can sum (3+2)=5 and multiply by 5, that is equal to 25\n",
      "#2 Or should it be interpreted as 3+(2*5) that is 13\n",
      "The right answer is:\n",
      "13\n",
      "That is because the precedence is higher in *,/,% than +,-\n",
      "************************************************************\n",
      "Associativity\n",
      "It is when there are many equals operators. For example:\n",
      "In this case we have 2-8-9\n",
      "First, answer can be (2-8)-9, that is -15\n",
      "Second, answer can be 2-(8-9), that is 3\n",
      "In this case the answer is :\n",
      "-15\n",
      "That is because when there are equals operators the evaluation is left to right\n",
      "************************************************************\n",
      "That is important to know that Python can use parentheses to override the precedence rules and force addition before multiplication\n"
     ]
    }
   ],
   "source": [
    "#Yordan García Corrales\n",
    "print(\"Precedence\")\n",
    "print(\"What is the right ejecution?\")\n",
    "print(\"3+2*5\")\n",
    "print(\"Second, We can sum (3+2)=5 and multiply by 5, that is equal to 25\")\n",
    "print(\"#2 Or should it be interpreted as 3+(2*5) that is 13\")\n",
    "print(\"The right answer is:\")\n",
    "print(3+2*5)\n",
    "print(\"That is because the precedence is higher in *,/,% than +,-\")\n",
    "print(\"************************************************************\")\n",
    "\n",
    "print(\"Associativity\")\n",
    "print(\"It is when there are many equals operators. For example:\")\n",
    "print(\"In this case we have 2-8-9\")\n",
    "print(\"First, answer can be (2-8)-9, that is -15\")\n",
    "print(\"Second, answer can be 2-(8-9), that is 3\")\n",
    "print(\"In this case the answer is :\")\n",
    "print(2-8-9)\n",
    "print(\"That is because when there are equals operators the evaluation is left to right\")\n",
    "print(\"************************************************************\")\n",
    "print(\"That is important to know that Python can use parentheses to override the precedence rules and force addition before multiplication\")\n",
    "\n"
   ]
  },
  {
   "cell_type": "code",
   "execution_count": null,
   "metadata": {
    "collapsed": true
   },
   "outputs": [],
   "source": []
  }
 ],
 "metadata": {
  "kernelspec": {
   "display_name": "Python 3",
   "language": "python",
   "name": "python3"
  },
  "language_info": {
   "codemirror_mode": {
    "name": "ipython",
    "version": 3
   },
   "file_extension": ".py",
   "mimetype": "text/x-python",
   "name": "python",
   "nbconvert_exporter": "python",
   "pygments_lexer": "ipython3",
   "version": "3.6.3"
  }
 },
 "nbformat": 4,
 "nbformat_minor": 2
}
