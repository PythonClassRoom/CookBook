{
 "cells": [
  {
   "cell_type": "code",
   "execution_count": null,
   "metadata": {},
   "outputs": [],
   "source": [
    "\n",
    "#Yordan García Corrales\n",
    "print(\"Controlling the print Function\")\n",
    "\n",
    "print(\"In this case we can manipulate the cursor when we use a print\\n\"\n",
    "      \"We know that when we use a print the cursor does not remain the end of the line.\")\n",
    "print(\"For example\")\n",
    "print(\"1 Continue to the next line\")\n",
    "\n",
    "#We can continue to write in the currently line using end='' that it is because the last print is like this\n",
    "print(\"2 Continue to the next line\",end='\\n')\n",
    "print(\"Cursos in the same line 3 and 4  \")\n",
    "print(\"(3 Continue to the next line) \",end='')\n",
    "print(\"4 Continue to the next line\",end='\\n')\n",
    "\n",
    "\n",
    "print(\"Sep Attribute of print, this can be used to inserte some between the print arguments  \")\n",
    "print(\"For example\")\n",
    "A=1\n",
    "B=2\n",
    "C=3\n",
    "print(A,B,C)\n",
    "print(A,B,C,sep=\"-\")\n",
    "print(A,B,C,sep=\"__\")"
   ]
  }
 ],
 "metadata": {
  "kernelspec": {
   "display_name": "Python 3",
   "language": "python",
   "name": "python3"
  },
  "language_info": {
   "codemirror_mode": {
    "name": "ipython",
    "version": 3
   },
   "file_extension": ".py",
   "mimetype": "text/x-python",
   "name": "python",
   "nbconvert_exporter": "python",
   "pygments_lexer": "ipython3",
   "version": "3.6.4"
  }
 },
 "nbformat": 4,
 "nbformat_minor": 2
}
