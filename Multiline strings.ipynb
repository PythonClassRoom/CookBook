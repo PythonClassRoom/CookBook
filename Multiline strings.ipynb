{
 "cells": [
  {
   "cell_type": "code",
   "execution_count": null,
   "metadata": {},
   "outputs": [],
   "source": [
    "#multiline_strings"
   ]
  },
  {
   "cell_type": "code",
   "execution_count": 2,
   "metadata": {},
   "outputs": [
    {
     "data": {
      "text/plain": [
       "\" \\nSELECT vendedores.nombre\\n\\tFROM vendedores, clientes, zonas, facturas, detalles, productos\\n\\tWHERE vendedores.codigo = clientes.vendedor\\n\\tAND clientes.zona = zonas.codigo\\n\\tAND clientes.codigo = facturas.cliente\\n\\tAND facturas.numero = detalles.factura\\n\\tAND detalles.producto = productos.codigo\\n\\tAND zonas.nombre = 'Norte'\\n\\tAND facturas.fecha < '01/4/2017' \\n\\tAND facturas.fecha > '31/12/2016'\\n\\tAND (productos.nombre = 'Aspirina'\\n\\tOR productos.nombre = 'Cardio Aspirina')\\n\""
      ]
     },
     "execution_count": 2,
     "metadata": {},
     "output_type": "execute_result"
    }
   ],
   "source": [
    "query_noopt = ''' \n",
    "SELECT vendedores.nombre\n",
    "\tFROM vendedores, clientes, zonas, facturas, detalles, productos\n",
    "\tWHERE vendedores.codigo = clientes.vendedor\n",
    "\tAND clientes.zona = zonas.codigo\n",
    "\tAND clientes.codigo = facturas.cliente\n",
    "\tAND facturas.numero = detalles.factura\n",
    "\tAND detalles.producto = productos.codigo\n",
    "\tAND zonas.nombre = 'Norte'\n",
    "\tAND facturas.fecha < '01/4/2017' \n",
    "\tAND facturas.fecha > '31/12/2016'\n",
    "\tAND (productos.nombre = 'Aspirina'\n",
    "\tOR productos.nombre = 'Cardio Aspirina')\n",
    "'''\n",
    "query_noopt\n"
   ]
  },
  {
   "cell_type": "code",
   "execution_count": 4,
   "metadata": {},
   "outputs": [
    {
     "data": {
      "text/plain": [
       "'This is a very long string that I wrote to help somebody who had a question about writing long strings in Python'"
      ]
     },
     "execution_count": 4,
     "metadata": {},
     "output_type": "execute_result"
    }
   ],
   "source": [
    "longStr = \"This is a very long string \" \\\n",
    "        \"that I wrote to help somebody \" \\\n",
    "        \"who had a question about \" \\\n",
    "        \"writing long strings in Python\"\n",
    "longStr"
   ]
  }
 ],
 "metadata": {
  "kernelspec": {
   "display_name": "Python 3",
   "language": "python",
   "name": "python3"
  },
  "language_info": {
   "codemirror_mode": {
    "name": "ipython",
    "version": 3
   },
   "file_extension": ".py",
   "mimetype": "text/x-python",
   "name": "python",
   "nbconvert_exporter": "python",
   "pygments_lexer": "ipython3",
   "version": "3.6.4"
  }
 },
 "nbformat": 4,
 "nbformat_minor": 2
}
