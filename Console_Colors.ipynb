{
 "cells": [
  {
   "cell_type": "code",
   "execution_count": 2,
   "metadata": {},
   "outputs": [
    {
     "data": {
      "text/plain": [
       "\"'\\n#Style code\\nWith no effect\\t0\\nBold\\t1\\nweak\\t2\\nitalics\\t3\\nunderlined\\t4\\nInverso\\t5\\nhide\\t6\\nstrikethrough\\t7\\n\\n#Colors code\\n#Color - text - Background\\nBlack\\t 30\\t          40\\nRed\\t     31\\t          41\\nGreen\\t 32\\t          42\\nyellow   33\\t          43\\nBlue\\t 34\\t          44\\nPurple\\t 35\\t          45\\nCyan\\t 36\\t          46\\nWhite\\t 37\\t          47\\n\\n\""
      ]
     },
     "execution_count": 2,
     "metadata": {},
     "output_type": "execute_result"
    }
   ],
   "source": [
    "''''\n",
    "#Style code\n",
    "With no effect\t0\n",
    "Bold\t1\n",
    "weak\t2\n",
    "italics\t3\n",
    "underlined\t4\n",
    "Inverso\t5\n",
    "hide\t6\n",
    "strikethrough\t7\n",
    "\n",
    "#Colors code\n",
    "#Color - text - Background\n",
    "Black\t 30\t          40\n",
    "Red\t     31\t          41\n",
    "Green\t 32\t          42\n",
    "yellow   33\t          43\n",
    "Blue\t 34\t          44\n",
    "Purple\t 35\t          45\n",
    "Cyan\t 36\t          46\n",
    "White\t 37\t          47\n",
    "\n",
    "'''"
   ]
  },
  {
   "cell_type": "code",
   "execution_count": 4,
   "metadata": {},
   "outputs": [],
   "source": [
    "   #Color samples\n",
    "HEADER = '\\033[95m'\n",
    "OKBLUE = '\\033[94m'\n",
    "OKGREEN = '\\033[92m'\n",
    "WARNING = '\\033[93m'\n",
    "FAIL = '\\033[91m'\n",
    "ENDC = '\\033[0m'\n",
    "BOLD = '\\033[1m'\n",
    "UNDERLINE = '\\033[4m'"
   ]
  },
  {
   "cell_type": "code",
   "execution_count": 5,
   "metadata": {},
   "outputs": [
    {
     "name": "stdout",
     "output_type": "stream",
     "text": [
      "\u001b[95mHELLO WORLD\n"
     ]
    }
   ],
   "source": [
    "print(HEADER + \"HELLO WORLD\")"
   ]
  },
  {
   "cell_type": "code",
   "execution_count": 6,
   "metadata": {},
   "outputs": [
    {
     "name": "stdout",
     "output_type": "stream",
     "text": [
      "\u001b[93mHELLO WORLD\n"
     ]
    }
   ],
   "source": [
    "print(WARNING + \"HELLO WORLD\")"
   ]
  },
  {
   "cell_type": "code",
   "execution_count": 7,
   "metadata": {},
   "outputs": [
    {
     "name": "stdout",
     "output_type": "stream",
     "text": [
      "\u001b[94mHELLO WORLD\n"
     ]
    }
   ],
   "source": [
    "print(OKBLUE + \"HELLO WORLD\")"
   ]
  },
  {
   "cell_type": "code",
   "execution_count": 8,
   "metadata": {},
   "outputs": [
    {
     "name": "stdout",
     "output_type": "stream",
     "text": [
      "\u001b[4mHELLO WORLD\n"
     ]
    }
   ],
   "source": [
    "print(UNDERLINE + \"HELLO WORLD\")"
   ]
  },
  {
   "cell_type": "code",
   "execution_count": 9,
   "metadata": {},
   "outputs": [
    {
     "name": "stdout",
     "output_type": "stream",
     "text": [
      "\u001b[0mHELLO WORLD\n"
     ]
    }
   ],
   "source": [
    "print(ENDC + \"HELLO WORLD\")"
   ]
  },
  {
   "cell_type": "code",
   "execution_count": null,
   "metadata": {},
   "outputs": [],
   "source": []
  }
 ],
 "metadata": {
  "kernelspec": {
   "display_name": "Python 3",
   "language": "python",
   "name": "python3"
  },
  "language_info": {
   "codemirror_mode": {
    "name": "ipython",
    "version": 3
   },
   "file_extension": ".py",
   "mimetype": "text/x-python",
   "name": "python",
   "nbconvert_exporter": "python",
   "pygments_lexer": "ipython3",
   "version": "3.6.4"
  }
 },
 "nbformat": 4,
 "nbformat_minor": 2
}
